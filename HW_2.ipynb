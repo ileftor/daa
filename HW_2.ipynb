{
 "cells": [
  {
   "cell_type": "markdown",
   "metadata": {},
   "source": [
    "# Урок 2. Масштабирование признаков. Регуляризация. Стохастический градиентный спуск. #\n"
   ]
  },
  {
   "cell_type": "markdown",
   "metadata": {},
   "source": [
    "**1. Сгенерировать датасет при помощи sklearn.datasets.make_regression и обучить линейную модель при помощи градиентного и стохастического градиентного спуска. Нанести среднеквадратичную ошибку для обоих методов на один график, сделать выводы о разнице скорости сходимости каждого из методов.**"
   ]
  },
  {
   "cell_type": "code",
   "execution_count": 1,
   "metadata": {},
   "outputs": [],
   "source": [
    "import numpy as np\n",
    "from sklearn import datasets\n",
    "import matplotlib.pyplot as plt\n",
    "\n",
    "%matplotlib inline"
   ]
  },
  {
   "cell_type": "code",
   "execution_count": 2,
   "metadata": {},
   "outputs": [],
   "source": [
    "# сгенерируем набор данных\n",
    "X, Y, coef = datasets.make_regression(n_samples=1000, \n",
    "                                              n_features = 2, \n",
    "                                              n_informative = 2, \n",
    "                                              n_targets = 1, \n",
    "                                              noise = 5, \n",
    "                                              coef = True, \n",
    "                                              random_state = 5)\n",
    "\n"
   ]
  },
  {
   "cell_type": "code",
   "execution_count": 3,
   "metadata": {},
   "outputs": [],
   "source": [
    "# реализуем функцию, определяющую среднеквадратичную ошибку\n",
    "def mserror(X, w, y_pred):\n",
    "    y = X.dot(w)\n",
    "    return (sum((y - y_pred)**2)) / len(y)"
   ]
  },
  {
   "cell_type": "code",
   "execution_count": 4,
   "metadata": {},
   "outputs": [],
   "source": [
    "# шаг градиентного спуска\n",
    "eta = 0.01\n",
    "\n",
    "# максимальное число итераций\n",
    "max_iter = 1e6\n",
    "\n",
    "# критерий сходимости (разница весов, при которой алгоритм останавливается)\n",
    "min_weight_dist = 1e-8"
   ]
  },
  {
   "cell_type": "code",
   "execution_count": 5,
   "metadata": {},
   "outputs": [],
   "source": [
    "# возьмем нулевые начальные веса\n",
    "w = np.zeros(2)\n",
    "\n",
    "# список векторов весов после каждой итерации\n",
    "w_list = [w.copy()]\n",
    "\n",
    "# счетчик итераций\n",
    "iter_num = 0\n",
    "\n",
    "# список значений ошибок после каждой итерации\n",
    "errors = []\n",
    "\n",
    "# зададим начальную разницу весов большим числом\n",
    "weight_dist = np.inf"
   ]
  },
  {
   "cell_type": "code",
   "execution_count": 6,
   "metadata": {},
   "outputs": [
    {
     "name": "stdout",
     "output_type": "stream",
     "text": [
      "В случае использования градиентного спуска функционал ошибки составляет 25.3975\n"
     ]
    }
   ],
   "source": [
    "# ход градиентного спуска\n",
    "while weight_dist > min_weight_dist and iter_num < max_iter:\n",
    "    new_w = w - 2 * eta * np.dot(X.T, (np.dot(X, w) - Y)) / Y.shape[0]\n",
    "    weight_dist = np.linalg.norm(new_w - w, ord=2)\n",
    "    \n",
    "    w_list.append(new_w.copy())\n",
    "    errors.append(mserror(X, new_w, Y))\n",
    "    \n",
    "    iter_num += 1\n",
    "    w = new_w\n",
    "    \n",
    "w_list = np.array(w_list)\n",
    "\n",
    "print(f'В случае использования градиентного спуска функционал ошибки составляет {round(errors[-1], 4)}')"
   ]
  },
  {
   "cell_type": "code",
   "execution_count": 7,
   "metadata": {},
   "outputs": [],
   "source": [
    "# возьмем нулевые начальные веса\n",
    "w_s = np.zeros(2)\n",
    "\n",
    "# счетчик итераций\n",
    "iter_num = 0\n",
    "\n",
    "# список векторов весов после каждой итерации\n",
    "w_list_s = [w_s.copy()]\n",
    "\n",
    "# список значений ошибок после каждой итерации\n",
    "errors_s = []\n",
    "\n",
    "# зададим начальную разницу весов большим числом\n",
    "weight_dist = np.inf"
   ]
  },
  {
   "cell_type": "code",
   "execution_count": 8,
   "metadata": {},
   "outputs": [
    {
     "name": "stdout",
     "output_type": "stream",
     "text": [
      "В случае использования градиентного спуска функционал ошибки составляет 1026.5859\n"
     ]
    }
   ],
   "source": [
    "\n",
    "# ход стохастического градиентного спуска\n",
    "\n",
    "while weight_dist > min_weight_dist and iter_num < max_iter:\n",
    "    # генерируем случайный индекс объекта выборки\n",
    "    train_ind = np.random.randint(X.shape[0])\n",
    "    \n",
    "    new_w = w_s - 2 * eta * np.dot(X[train_ind].T, (np.dot(X[train_ind], w_s) - Y[train_ind])) / Y.shape[0]\n",
    "    weight_dist = np.linalg.norm(new_w - w_s, ord=2)\n",
    "    \n",
    "    w_list_s.append(new_w.copy())\n",
    "    errors_s.append(mserror(X, new_w, Y))\n",
    "    \n",
    "    iter_num += 1\n",
    "    w_s = new_w\n",
    "    \n",
    "w_list_s = np.array(w_list_s)\n",
    "\n",
    "print(f'В случае использования градиентного спуска функционал ошибки составляет {round(errors_s[-1], 4)}')"
   ]
  },
  {
   "cell_type": "code",
   "execution_count": 9,
   "metadata": {},
   "outputs": [
    {
     "data": {
      "text/plain": [
       "Text(0, 0.5, 'MSE')"
      ]
     },
     "execution_count": 9,
     "metadata": {},
     "output_type": "execute_result"
    },
    {
     "data": {
      "image/png": "[encoded data removed]",
      "text/plain": [
       "<Figure size 432x288 with 1 Axes>"
      ]
     },
     "metadata": {
      "needs_background": "light"
     },
     "output_type": "display_data"
    }
   ],
   "source": [
    "# Визуализируем изменение функционала ошибки\n",
    "plt.plot(range(len(errors)), errors)\n",
    "plt.plot(range(len(errors_s)), errors_s)\n",
    "plt.title('MSE')\n",
    "plt.xlabel('Iteration number')\n",
    "plt.ylabel('MSE')"
   ]
  },
  {
   "cell_type": "markdown",
   "metadata": {},
   "source": [
    "**Вывод:**"
   ]
  },
  {
   "cell_type": "code",
   "execution_count": 10,
   "metadata": {},
   "outputs": [
    {
     "name": "stdout",
     "output_type": "stream",
     "text": [
      "Скорость сходимости при использовании градиентного спуска составляет 981, а скорость сходимости при использовании стохастического градиентного спуска 48204, что превосходит первое значение в 49 раза. \n"
     ]
    }
   ],
   "source": [
    "print(f'Скорость сходимости при использовании градиентного спуска составляет {len(errors)}, а скорость сходимости при использовании стохастического градиентного спуска {len(errors_s)}, что превосходит первое значение в {len(errors_s) // len(errors)} раза. ')"
   ]
  },
  {
   "cell_type": "markdown",
   "metadata": {},
   "source": [
    "**2. Модифицировать решение первого задания путем добавления 𝐿2 -регуляризации и сравнить результаты.**"
   ]
  },
  {
   "cell_type": "code",
   "execution_count": 23,
   "metadata": {},
   "outputs": [],
   "source": [
    "# возьмем нулевые начальные веса\n",
    "w_s2 = np.zeros(2)\n",
    "\n",
    "# счетчик итераций\n",
    "iter_num = 0\n",
    "\n",
    "# список векторов весов после каждой итерации\n",
    "w_list_s2 = [w_s2.copy()]\n",
    "\n",
    "# список значений ошибок после каждой итерации\n",
    "errors_s2 = []\n",
    "\n",
    "# зададим начальную разницу весов большим числом\n",
    "weight_dist = np.inf\n",
    "\n",
    "#зададим значение lambda\n",
    "lambda_=1e-7"
   ]
  },
  {
   "cell_type": "code",
   "execution_count": 24,
   "metadata": {},
   "outputs": [
    {
     "name": "stdout",
     "output_type": "stream",
     "text": [
      "В случае использования градиентного спуска функционал ошибки составляет 26.1525\n"
     ]
    }
   ],
   "source": [
    "# ход стохастического градиентного спуска с L2-регуляризацей\n",
    "\n",
    "while weight_dist > min_weight_dist and iter_num < max_iter:\n",
    "    # генерируем случайный индекс объекта выборки\n",
    "    train_ind = np.random.randint(X.shape[0])\n",
    "    \n",
    "    new_w = w_s2 - eta * (2 * np.dot(X[train_ind].T, (np.dot(X[train_ind], w_s2) - Y[train_ind])) / Y.shape[0] + lambda_ * w_s2)\n",
    "    \n",
    "    weight_dist = np.linalg.norm(new_w - w_s2, ord=2)\n",
    "    \n",
    "    w_list_s2.append(new_w.copy())\n",
    "    errors_s2.append(mserror(X, new_w, Y))\n",
    "    \n",
    "    iter_num += 1\n",
    "    w_s2 = new_w\n",
    "    \n",
    "w_list_s2 = np.array(w_list_s2)\n",
    "\n",
    "print(f'В случае использования градиентного спуска функционал ошибки составляет {round(errors_s2[-1], 4)}')"
   ]
  },
  {
   "cell_type": "code",
   "execution_count": 26,
   "metadata": {},
   "outputs": [
    {
     "data": {
      "image/png": "[encoded data removed]",
      "text/plain": [
       "<Figure size 936x432 with 1 Axes>"
      ]
     },
     "metadata": {
      "needs_background": "light"
     },
     "output_type": "display_data"
    }
   ],
   "source": [
    "# Визуализируем изменение весов (красной точкой обозначены истинные веса, сгенерированные вначале)\n",
    "plt.figure(figsize=(13, 6))\n",
    "plt.title('Stochastic gradient descent + L2')\n",
    "plt.xlabel(r'$w_1$')\n",
    "plt.ylabel(r'$w_2$')\n",
    "\n",
    "plt.scatter(w_list_s2[:, 0], w_list_s2[:, 1])\n",
    "plt.scatter(coef[0], coef[1], c='r')\n",
    "plt.plot(w_list_s2[:, 0], w_list_s2[:, 1])\n",
    "\n",
    "plt.show()"
   ]
  },
  {
   "cell_type": "code",
   "execution_count": 28,
   "metadata": {},
   "outputs": [
    {
     "data": {
      "text/plain": [
       "Text(0, 0.5, 'MSE')"
      ]
     },
     "execution_count": 28,
     "metadata": {},
     "output_type": "execute_result"
    },
    {
     "data": {
      "image/png": "[encoded data removed]",
      "text/plain": [
       "<Figure size 432x288 with 1 Axes>"
      ]
     },
     "metadata": {
      "needs_background": "light"
     },
     "output_type": "display_data"
    }
   ],
   "source": [
    "# Визуализируем изменение функционала ошибки\n",
    "plt.plot(range(len(errors_s)), errors_s)\n",
    "plt.plot(range(len(errors_s2)), errors_s2)\n",
    "plt.title('MSE')\n",
    "plt.xlabel('Iteration number')\n",
    "plt.ylabel('MSE')"
   ]
  },
  {
   "cell_type": "markdown",
   "metadata": {},
   "source": [
    "**Вывод**"
   ]
  },
  {
   "cell_type": "code",
   "execution_count": 36,
   "metadata": {},
   "outputs": [
    {
     "name": "stdout",
     "output_type": "stream",
     "text": [
      "Скорость сходимости при использовании стохастического градиентного спуска без L2 регуляризации составляет 48204, а скорость сходимости при использовании стохастического градиентного спуска с L2 регуляризацией 236760, что превосходит первое значение в 4 раза. При этом значение MSE в первом случае 1026.585857851936 и во втором 26.152519193530043 показывает, что использование L2 регуляризации, при одинаковых значениях гипер параметров, существенно снижает размер ошибки\n"
     ]
    }
   ],
   "source": [
    "print(f'Скорость сходимости при использовании стохастического градиентного спуска без L2 регуляризации составляет {len(errors_s)}, а скорость сходимости при использовании стохастического градиентного спуска с L2 регуляризацией {len(errors_s2)}, что превосходит первое значение в {len(errors_s2) // len(errors_s)} раза. При этом значение MSE в первом случае {errors_s[-1]} и во втором {errors_s2[-1]} показывает, что использование L2 регуляризации, при одинаковых значениях гипер параметров, существенно снижает размер ошибки')"
   ]
  }
 ],
 "metadata": {
  "kernelspec": {
   "display_name": "Python 3",
   "language": "python",
   "name": "python3"
  },
  "language_info": {
   "codemirror_mode": {
    "name": "ipython",
    "version": 3
   },
   "file_extension": ".py",
   "mimetype": "text/x-python",
   "name": "python",
   "nbconvert_exporter": "python",
   "pygments_lexer": "ipython3",
   "version": "3.8.3"
  }
 },
 "nbformat": 4,
 "nbformat_minor": 4
}
