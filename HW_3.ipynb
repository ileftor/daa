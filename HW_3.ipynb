{
 "cells": [
  {
   "cell_type": "markdown",
   "metadata": {},
   "source": [
    "# Домашнее задание 3#"
   ]
  },
  {
   "cell_type": "code",
   "execution_count": 1,
   "metadata": {},
   "outputs": [],
   "source": [
    "import numpy as np\n",
    "import matplotlib.pyplot as plt"
   ]
  },
  {
   "cell_type": "code",
   "execution_count": 2,
   "metadata": {},
   "outputs": [],
   "source": [
    "X = np.array([[1, 1, 1, 1, 1, 1, 1, 1, 1, 1],\n",
    "              [1, 1, 2, 1, 3, 0, 5, 10, 1, 2],\n",
    "              [500, 700, 750, 600, 1450,\n",
    "               800, 1500, 2000, 450, 1000],\n",
    "              [1, 1, 2, 1, 2, \n",
    "               1, 3, 3, 1, 2]], dtype = np.float64)\n",
    "\n",
    "y = np.array([0, 0, 1, 0, 1, 0, 1, 0, 1, 1], dtype = np.float64)"
   ]
  },
  {
   "cell_type": "code",
   "execution_count": 3,
   "metadata": {},
   "outputs": [],
   "source": [
    "def calc_std_feat(x):\n",
    "    res = (x - x.mean()) / x.std()\n",
    "    return res"
   ]
  },
  {
   "cell_type": "code",
   "execution_count": 4,
   "metadata": {},
   "outputs": [],
   "source": [
    "#Стандартизируем третий признак\n",
    "X_st = X.copy()\n",
    "X_st[2, :] = calc_std_feat(X[2, :])"
   ]
  },
  {
   "cell_type": "code",
   "execution_count": 5,
   "metadata": {},
   "outputs": [],
   "source": [
    "def sigmoid(z):\n",
    "    res = 1 / (1 + np.exp(-z))\n",
    "    return res"
   ]
  },
  {
   "cell_type": "code",
   "execution_count": 6,
   "metadata": {},
   "outputs": [],
   "source": [
    "#def calc_logloss(y, y_pred):\n",
    "#    err = - np.mean(y * np.log(y_pred) + (1.0 - y) * np.log(1.0 - y_pred))\n",
    "#    return err"
   ]
  },
  {
   "cell_type": "code",
   "execution_count": 7,
   "metadata": {},
   "outputs": [],
   "source": [
    "def eval_model(X, y, iterations, alpha=1e-4):\n",
    "    np.random.seed(42)\n",
    "    W = np.random.randn(X.shape[0])\n",
    "    n = X.shape[1]\n",
    "    for i in range(1, iterations+1):\n",
    "        z = np.dot(W, X)\n",
    "        y_pred = sigmoid(z)\n",
    "        err = calc_logloss(y, y_pred)\n",
    "        W -= alpha * (1/n * np.dot((y_pred - y), X.T))\n",
    "        if i % (iterations / 10) == 0:\n",
    "            print(i, W, err)\n",
    "    return W"
   ]
  },
  {
   "cell_type": "code",
   "execution_count": 10,
   "metadata": {},
   "outputs": [
    {
     "name": "stdout",
     "output_type": "stream",
     "text": [
      "100 [ 0.49632454 -0.139447    0.64766909  1.52245352] 1.2182013588473828\n",
      "200 [ 0.49593515 -0.14062934  0.64764955  1.52187747] 1.2163195695437872\n",
      "300 [ 0.49554596 -0.14181132  0.64762991  1.5213017 ] 1.2144391045046246\n",
      "400 [ 0.49515698 -0.14299295  0.64761017  1.52072621] 1.2125599690654068\n",
      "500 [ 0.49476822 -0.14417422  0.64759033  1.52015101] 1.2106821686057812\n",
      "600 [ 0.49437966 -0.14535513  0.6475704   1.51957609] 1.2088057085499613\n",
      "700 [ 0.49399132 -0.14653568  0.64755037  1.51900146] 1.2069305943671746\n",
      "800 [ 0.49360319 -0.14771586  0.64753024  1.51842711] 1.2050568315720829\n",
      "900 [ 0.49321527 -0.14889567  0.64751001  1.51785305] 1.2031844257252367\n",
      "1000 [ 0.49282757 -0.15007512  0.64748969  1.51727928] 1.2013133824335136\n"
     ]
    },
    {
     "data": {
      "text/plain": [
       "array([ 0.49282757, -0.15007512,  0.64748969,  1.51727928])"
      ]
     },
     "execution_count": 10,
     "metadata": {},
     "output_type": "execute_result"
    }
   ],
   "source": [
    "eval_model(X_st, y, iterations=1000, alpha=1e-5)"
   ]
  },
  {
   "cell_type": "markdown",
   "metadata": {},
   "source": [
    "**1.Измените функцию calc_logloss так, чтобы нули по возможности не попадали в np.log.**"
   ]
  },
  {
   "cell_type": "code",
   "execution_count": 11,
   "metadata": {},
   "outputs": [],
   "source": [
    "def calc_logloss(y, y_pred):\n",
    "    err = - np.mean(y * np.log(y_pred+1e-10) + (1.0 - y) * np.log(1.0 - y_pred-1e-10))\n",
    "    return err"
   ]
  },
  {
   "cell_type": "markdown",
   "metadata": {},
   "source": [
    "**2.Подберите аргументы функции eval_model для логистической регрессии таким образом, чтобы log loss был минимальным.**"
   ]
  },
  {
   "cell_type": "code",
   "execution_count": 12,
   "metadata": {},
   "outputs": [],
   "source": [
    "def eval_model(X, y, iterations, alpha=1e-4):\n",
    "    np.random.seed(42)\n",
    "    W = np.random.randn(X.shape[0])\n",
    "    n = X.shape[1]\n",
    "    for i in range(1, iterations+1):\n",
    "        z = np.dot(W, X)\n",
    "        y_pred = sigmoid(z)\n",
    "        err = calc_logloss(y, y_pred)\n",
    "        W -= alpha * (1/n * np.dot((y_pred - y), X.T))\n",
    "        if i % (iterations / 10) == 0:\n",
    "            print(i, W, err)\n",
    "    return W"
   ]
  },
  {
   "cell_type": "code",
   "execution_count": 15,
   "metadata": {},
   "outputs": [
    {
     "name": "stdout",
     "output_type": "stream",
     "text": [
      "9000 [-10.67239108  -1.40571631  -2.1950503    9.01453862] 0.2586628760175564\n",
      "18000 [-15.35833092  -1.7937128   -3.63759762  12.79206658] 0.21561207619656003\n",
      "27000 [-19.0399625   -2.11133453  -4.74241755  15.77840201] 0.18908459192738053\n",
      "36000 [-22.1114095   -2.37992046  -5.65152931  18.27023302] 0.17066275600420627\n",
      "45000 [-24.74975994  -2.61214065  -6.42523187  20.4090502 ] 0.157097782321902\n",
      "54000 [-27.06439659  -2.81649645  -7.09951522  22.2834429 ] 0.1466764126887861\n",
      "63000 [-29.12894501  -2.99893696  -7.69804565  23.95328422] 0.138399087335656\n",
      "72000 [-30.99523271  -3.16375265  -8.23719474  25.46079233] 0.13164554364787803\n",
      "81000 [-32.70096576  -3.31411958  -8.72871041  26.83671018] 0.12601215901886922\n",
      "90000 [-34.27432938  -3.45244383  -9.1812758   28.10403169] 0.12122579824331894\n"
     ]
    }
   ],
   "source": [
    "W = eval_model(X_st, y, iterations=90000, alpha=1e-1)"
   ]
  },
  {
   "cell_type": "markdown",
   "metadata": {},
   "source": [
    "**3.Создайте функцию calc_pred_proba, возвращающую предсказанную вероятность класса 1 (на вход подаются W, который уже посчитан функцией eval_model и X, на выходе - массив y_pred_proba).**"
   ]
  },
  {
   "cell_type": "code",
   "execution_count": 16,
   "metadata": {},
   "outputs": [
    {
     "data": {
      "text/plain": [
       "array([-34.27432938,  -3.45244383,  -9.1812758 ,  28.10403169])"
      ]
     },
     "execution_count": 16,
     "metadata": {},
     "output_type": "execute_result"
    }
   ],
   "source": [
    "W"
   ]
  },
  {
   "cell_type": "code",
   "execution_count": 17,
   "metadata": {},
   "outputs": [],
   "source": [
    "def calc_pred_proba(W, X):\n",
    "    y_pred_proba = sigmoid(np.dot(W,X))\n",
    "    return y_pred_proba"
   ]
  },
  {
   "cell_type": "code",
   "execution_count": 18,
   "metadata": {},
   "outputs": [
    {
     "data": {
      "text/plain": [
       "array([0.34776943, 0.01194109, 1.        , 0.07430906, 0.92972805,\n",
       "       0.05433284, 1.        , 0.01994704, 0.57880412, 0.99999952])"
      ]
     },
     "execution_count": 18,
     "metadata": {},
     "output_type": "execute_result"
    }
   ],
   "source": [
    "calc_pred_proba(W, X_st)"
   ]
  },
  {
   "cell_type": "markdown",
   "metadata": {},
   "source": [
    "**4.Создайте функцию calc_pred, возвращающую предсказанный класс (на вход подаются W, который уже посчитан функцией eval_model и X, на выходе - массив y_pred).**"
   ]
  },
  {
   "cell_type": "code",
   "execution_count": 19,
   "metadata": {},
   "outputs": [],
   "source": [
    "def calc_pred(W, X, t):\n",
    "    y_pred = calc_pred_proba(W, X)\n",
    "    y_pred = np.where(y_pred > t, 1, 0)\n",
    "    return y_pred"
   ]
  },
  {
   "cell_type": "code",
   "execution_count": 20,
   "metadata": {},
   "outputs": [
    {
     "data": {
      "text/plain": [
       "array([0, 0, 1, 0, 1, 0, 1, 0, 1, 1])"
      ]
     },
     "execution_count": 20,
     "metadata": {},
     "output_type": "execute_result"
    }
   ],
   "source": [
    "#Порог 0.3 предсказывает со 100% точностью, но для интереса берем 0.5\n",
    "y_pred = calc_pred(W, X_st, 0.5)\n",
    "y_pred"
   ]
  },
  {
   "cell_type": "code",
   "execution_count": 21,
   "metadata": {},
   "outputs": [
    {
     "data": {
      "text/plain": [
       "array([0., 0., 1., 0., 1., 0., 1., 0., 1., 1.])"
      ]
     },
     "execution_count": 21,
     "metadata": {},
     "output_type": "execute_result"
    }
   ],
   "source": [
    "y"
   ]
  },
  {
   "cell_type": "markdown",
   "metadata": {},
   "source": [
    "**5.Посчитайте Accuracy, матрицу ошибок, точность и полноту, а также F1 score.**"
   ]
  },
  {
   "cell_type": "code",
   "execution_count": 22,
   "metadata": {},
   "outputs": [],
   "source": [
    "def score(y, y_pred):\n",
    "    \n",
    "    accuracy = sum(y_pred==y)/len(y)\n",
    "    \n",
    "    conf_matrix = np.zeros(shape=(2,2))\n",
    "    tp = np.sum(np.where(y==1,y==y_pred,False))\n",
    "    fp = np.sum(np.where(y==0,y==y_pred,False))\n",
    "    fn = np.sum(np.where(y==1,y!=y_pred,False))\n",
    "    tn = np.sum(np.where(y==0,y!=y_pred,False))\n",
    "\n",
    "\n",
    "    conf_matrix[0,0] = tp\n",
    "    conf_matrix[1,1] = fp\n",
    "    conf_matrix[1,0] = fn\n",
    "    conf_matrix[0,1] = tn\n",
    "\n",
    "    preсision = tp /(tp + fp)\n",
    "    recall = tp / (tp + fn)\n",
    "    f1 = 2 * preсision * recall / (preсision + recall)\n",
    "    \n",
    "    \n",
    "    print(f\"conf_matrix = \\n {conf_matrix.astype(int)} , \\n accuracy = {accuracy}, \\n preсision = {preсision}, \\n recall = {recall}, \\n f1 = {f1}\", sep='\\n')\n"
   ]
  },
  {
   "cell_type": "code",
   "execution_count": 23,
   "metadata": {},
   "outputs": [
    {
     "name": "stdout",
     "output_type": "stream",
     "text": [
      "conf_matrix = \n",
      " [[5 0]\n",
      " [0 5]] , \n",
      " accuracy = 1.0, \n",
      " preсision = 0.5, \n",
      " recall = 1.0, \n",
      " f1 = 0.6666666666666666\n"
     ]
    }
   ],
   "source": [
    "score(y, y_pred)"
   ]
  },
  {
   "cell_type": "markdown",
   "metadata": {},
   "source": [
    "**6.Могла ли модель переобучиться? Почему?**"
   ]
  },
  {
   "cell_type": "markdown",
   "metadata": {},
   "source": [
    "Модель вероятнее всего переобучиась. Для проверки этой гипотезы необходимо провести предсказания на тестовой выборке.\n",
    "На переобучение указывают очень большие веса.\n",
    "Причиной этому могли стать выбросы во втором признаке. В нашем случае необходимо применить регуляризацию, т.к. избавляться от выбросов при столь малой выборке кощунство. "
   ]
  },
  {
   "cell_type": "markdown",
   "metadata": {},
   "source": [
    "**7. (опция) Создайте функции eval_model_l1 и eval_model_l2 с применением L1 и L2 регуляризаций соответственно.**"
   ]
  },
  {
   "cell_type": "code",
   "execution_count": 29,
   "metadata": {},
   "outputs": [],
   "source": [
    "def eval_model_l1(X, y, iterations, alpha, lambda_):\n",
    "    np.random.seed(42)\n",
    "    W = np.random.randn(X.shape[0])\n",
    "    n = X.shape[1]\n",
    "    for i in range(1, iterations+1):\n",
    "        z = np.dot(W, X)\n",
    "        y_pred = sigmoid(z)\n",
    "        err = calc_logloss(y, y_pred)\n",
    "        W -= alpha * (1/n * np.dot((y_pred - y), X.T) + 0.5 * lambda_ * W/np.abs(W))\n",
    "        if i % (iterations / 10) == 0:\n",
    "            print(i, W, err)\n",
    "    return W"
   ]
  },
  {
   "cell_type": "code",
   "execution_count": 38,
   "metadata": {},
   "outputs": [
    {
     "name": "stdout",
     "output_type": "stream",
     "text": [
      "5000 [-6.11675452 -1.08745034 -0.68578282  5.49017281] 0.3213739309908881\n",
      "10000 [-7.70866296 -1.18164112 -1.2251226   6.67758657] 0.29540422749894263\n",
      "15000 [-8.5491744  -1.23906671 -1.50041325  7.32545497] 0.28383310884918267\n",
      "20000 [-9.07557993 -1.27701379 -1.67034792  7.73653085] 0.2771391041380168\n",
      "25000 [-9.4314307  -1.30337784 -1.7843109   8.01629523] 0.2728170637245326\n",
      "30000 [-9.68224047 -1.32226218 -1.86423679  8.21426301] 0.26985921877463703\n",
      "35000 [-9.86357432 -1.3360575  -1.9218326   8.35775635] 0.2677630967919561\n",
      "40000 [-9.99687455 -1.34626971 -1.96407522  8.46342005] 0.26624380061793607\n",
      "45000 [-10.0959828   -1.35389966  -1.99543133   8.54207424] 0.2651256500357162\n",
      "50000 [-10.17026032  -1.35963805  -2.01890363   8.60107245] 0.26429387686906153\n"
     ]
    }
   ],
   "source": [
    "#При прочих равных сработала лучше, чем L2\n",
    "W = eval_model_l1(X_st, y, iterations=50000, alpha=1e-1, lambda_ = 1e-2)"
   ]
  },
  {
   "cell_type": "code",
   "execution_count": 39,
   "metadata": {},
   "outputs": [
    {
     "data": {
      "text/plain": [
       "array([0, 0, 1, 0, 1, 0, 1, 0, 0, 1])"
      ]
     },
     "execution_count": 39,
     "metadata": {},
     "output_type": "execute_result"
    }
   ],
   "source": [
    "y_pred = calc_pred(W, X_st, 0.5)\n",
    "y_pred"
   ]
  },
  {
   "cell_type": "code",
   "execution_count": 40,
   "metadata": {},
   "outputs": [
    {
     "name": "stdout",
     "output_type": "stream",
     "text": [
      "conf_matrix = \n",
      " [[4 0]\n",
      " [1 5]] , \n",
      " accuracy = 0.9, \n",
      " preсision = 0.4444444444444444, \n",
      " recall = 0.8, \n",
      " f1 = 0.5714285714285714\n"
     ]
    }
   ],
   "source": [
    "score(y, y_pred)"
   ]
  },
  {
   "cell_type": "code",
   "execution_count": 41,
   "metadata": {},
   "outputs": [],
   "source": [
    "def eval_model_l2(X, y, iterations, alpha, lambda_):\n",
    "    np.random.seed(42)\n",
    "    W = np.random.randn(X.shape[0])\n",
    "    n = X.shape[1]\n",
    "    for i in range(1, iterations+1):\n",
    "        z = np.dot(W, X)\n",
    "        y_pred = sigmoid(z)\n",
    "        err = calc_logloss(y, y_pred)\n",
    "        W -= alpha * (1/n * 2 * np.dot((y_pred - y), X.T) + 2 * lambda_ * W) \n",
    "        if i % (iterations / 10) == 0:\n",
    "            print(i, W, err)\n",
    "    return W"
   ]
  },
  {
   "cell_type": "code",
   "execution_count": 46,
   "metadata": {
    "scrolled": true
   },
   "outputs": [
    {
     "name": "stdout",
     "output_type": "stream",
     "text": [
      "1000 [-4.54916627 -1.03202532 -0.12722403  4.41246363] 0.35440900762618177\n",
      "2000 [-6.83558984 -1.13408277 -0.94799205  6.03306138] 0.30869733677912115\n",
      "3000 [-8.40939909 -1.23471955 -1.47376617  7.2286489 ] 0.2855327254547773\n",
      "4000 [-9.6665065  -1.32612023 -1.87961772  8.21252987] 0.2699112542285734\n",
      "5000 [-10.74162066  -1.40930035  -2.21994829   9.06654045] 0.2579388513689552\n",
      "6000 [-11.69368993  -1.48558473  -2.51748679   9.82896966] 0.2481495407191711\n",
      "7000 [-12.55337751  -1.55598199  -2.78371507  10.52068977] 0.23984960294116947\n",
      "8000 [-13.33883177  -1.6212423   -3.02527971  11.15452185] 0.23265480172445424\n",
      "9000 [-14.06193849  -1.68194331  -3.24645213  11.73912399] 0.22632632203367326\n",
      "10000 [-14.73112977  -1.73854766  -3.45021129  12.28079433] 0.22070239558904858\n"
     ]
    }
   ],
   "source": [
    "W = eval_model_l2(X_st, y, iterations=10000, alpha=1e-1, lambda_ = 1e-4)"
   ]
  },
  {
   "cell_type": "code",
   "execution_count": 47,
   "metadata": {},
   "outputs": [
    {
     "data": {
      "text/plain": [
       "array([0, 0, 1, 0, 1, 0, 1, 0, 0, 1])"
      ]
     },
     "execution_count": 47,
     "metadata": {},
     "output_type": "execute_result"
    }
   ],
   "source": [
    "y_pred = calc_pred(W, X_st, 0.5)\n",
    "y_pred"
   ]
  },
  {
   "cell_type": "code",
   "execution_count": 48,
   "metadata": {},
   "outputs": [
    {
     "name": "stdout",
     "output_type": "stream",
     "text": [
      "conf_matrix = \n",
      " [[4 0]\n",
      " [1 5]] , \n",
      " accuracy = 0.9, \n",
      " preсision = 0.4444444444444444, \n",
      " recall = 0.8, \n",
      " f1 = 0.5714285714285714\n"
     ]
    }
   ],
   "source": [
    "score(y, y_pred)"
   ]
  },
  {
   "cell_type": "code",
   "execution_count": null,
   "metadata": {},
   "outputs": [],
   "source": []
  }
 ],
 "metadata": {
  "kernelspec": {
   "display_name": "Python 3",
   "language": "python",
   "name": "python3"
  },
  "language_info": {
   "codemirror_mode": {
    "name": "ipython",
    "version": 3
   },
   "file_extension": ".py",
   "mimetype": "text/x-python",
   "name": "python",
   "nbconvert_exporter": "python",
   "pygments_lexer": "ipython3",
   "version": "3.8.3"
  }
 },
 "nbformat": 4,
 "nbformat_minor": 4
}
